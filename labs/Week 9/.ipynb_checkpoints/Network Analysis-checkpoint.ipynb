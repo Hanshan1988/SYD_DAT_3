{
 "cells": [
  {
   "cell_type": "markdown",
   "metadata": {},
   "source": [
    "# Introduction to Data Science with Python \n",
    "## General Assembly - 17th February 2016 Day 2##\n",
    "\n",
    "This notebook contains exercises for getting started with network analysis in Python. The main topics we will cover in this class are:\n",
    "1. Analysing a network\n",
    "2. Plotting a network"
   ]
  },
  {
   "cell_type": "code",
   "execution_count": 1,
   "metadata": {
    "collapsed": false
   },
   "outputs": [
    {
     "name": "stdout",
     "output_type": "stream",
     "text": [
      "Requirement already satisfied (use --upgrade to upgrade): networkx in c:\\users\\hansh\\anaconda2\\lib\\site-packages\n",
      "Requirement already satisfied (use --upgrade to upgrade): decorator>=3.4.0 in c:\\users\\hansh\\anaconda2\\lib\\site-packages (from networkx)\n"
     ]
    }
   ],
   "source": [
    "# Install Networkx\n",
    "! pip install networkx "
   ]
  },
  {
   "cell_type": "code",
   "execution_count": 2,
   "metadata": {
    "collapsed": true
   },
   "outputs": [],
   "source": [
    "import networkx as nx\n",
    "import matplotlib.pyplot as plt"
   ]
  },
  {
   "cell_type": "code",
   "execution_count": 3,
   "metadata": {
    "collapsed": true
   },
   "outputs": [],
   "source": [
    "%matplotlib inline"
   ]
  },
  {
   "cell_type": "code",
   "execution_count": 4,
   "metadata": {
    "collapsed": true
   },
   "outputs": [],
   "source": [
    "G_fb = nx.read_edgelist(\"../../data/facebook_combined.txt\", create_using = nx.Graph(), nodetype = int)"
   ]
  },
  {
   "cell_type": "code",
   "execution_count": 5,
   "metadata": {
    "collapsed": false
   },
   "outputs": [
    {
     "name": "stdout",
     "output_type": "stream",
     "text": [
      "Name: \n",
      "Type: Graph\n",
      "Number of nodes: 4039\n",
      "Number of edges: 88234\n",
      "Average degree:  43.6910\n"
     ]
    }
   ],
   "source": [
    "\n",
    "#Quick snapshot of the Network\n",
    "print nx.info(G_fb)"
   ]
  },
  {
   "cell_type": "code",
   "execution_count": 6,
   "metadata": {
    "collapsed": true
   },
   "outputs": [],
   "source": [
    "#Create network layout for visualizations\n",
    "spring_pos = nx.spring_layout(G_fb)"
   ]
  },
  {
   "cell_type": "code",
   "execution_count": 7,
   "metadata": {
    "collapsed": false
   },
   "outputs": [
    {
     "data": {
      "image/png": "[encoded data removed]",
      "text/plain": [
       "<matplotlib.figure.Figure at 0x1a266860>"
      ]
     },
     "metadata": {},
     "output_type": "display_data"
    }
   ],
   "source": [
    "plt.axis(\"off\")\n",
    "nx.draw_networkx(G_fb, pos = spring_pos, with_labels = False, node_size = 35)"
   ]
  },
  {
   "cell_type": "code",
   "execution_count": 8,
   "metadata": {
    "collapsed": true
   },
   "outputs": [],
   "source": [
    "from multiprocessing import Pool\n",
    "import itertools"
   ]
  },
  {
   "cell_type": "code",
   "execution_count": 9,
   "metadata": {
    "collapsed": true
   },
   "outputs": [],
   "source": [
    "def partitions(nodes, n):\n",
    "    \"Partitions the nodes into n subsets\"\n",
    "    nodes_iter = iter(nodes)\n",
    "    while True:\n",
    "        partition = tuple(itertools.islice(nodes_iter,n))\n",
    "        if not partition:\n",
    "            return\n",
    "        yield partition"
   ]
  },
  {
   "cell_type": "code",
   "execution_count": 10,
   "metadata": {
    "collapsed": true
   },
   "outputs": [],
   "source": [
    "def btwn_pool(G_tuple):\n",
    "    return nx.betweenness_centrality_source(*G_tuple)"
   ]
  },
  {
   "cell_type": "code",
   "execution_count": 11,
   "metadata": {
    "collapsed": true
   },
   "outputs": [],
   "source": [
    "def between_parallel(G, processes = None):\n",
    "    p = Pool(processes=processes)\n",
    "    part_generator = 4*len(p._pool)\n",
    "    node_partitions = list(partitions(G.nodes(), int(len(G)/part_generator)))\n",
    "    num_partitions = len(node_partitions)\n",
    " \n",
    "    bet_map = p.map(btwn_pool,\n",
    "                        zip([G]*num_partitions,\n",
    "                        [True]*num_partitions,\n",
    "                        [None]*num_partitions,\n",
    "                        node_partitions))\n",
    " \n",
    "    bt_c = bet_map[0]\n",
    "    for bt in bet_map[1:]:\n",
    "        for n in bt:\n",
    "            bt_c[n] += bt[n]\n",
    "    return bt_c"
   ]
  },
  {
   "cell_type": "code",
   "execution_count": null,
   "metadata": {
    "collapsed": true
   },
   "outputs": [],
   "source": [
    "\n",
    "bt = between_parallel(G_fb)\n",
    "top = 10\n",
    "\n",
    "max_nodes =  sorted(bt.iteritems(), key = lambda v: -v[1])[:top]\n",
    "bt_values = [5]*len(G_fb.nodes())\n",
    "bt_colors = [0]*len(G_fb.nodes())\n",
    "for max_key, max_val in max_nodes:\n",
    "    bt_values[max_key] = 150\n",
    "    bt_colors[max_key] = 2\n",
    " \n",
    "plt.axis(\"off\")\n",
    "nx.draw_networkx(G_fb, pos = spring_pos, cmap = plt.get_cmap(\"rainbow\"), node_color = bt_colors,\n",
    "                 node_size = bt_values, with_labels = False)"
   ]
  },
  {
   "cell_type": "markdown",
   "metadata": {},
   "source": [
    "\n",
    "## Extra Tasks##\n",
    "\n",
    "1. Find the k-clique communities in this network\n",
    "2. What is the centrality of node 14?\n",
    "3. Run a hive plot of the data with 2 k-clique communities as the dimensions"
   ]
  },
  {
   "cell_type": "code",
   "execution_count": null,
   "metadata": {
    "collapsed": true
   },
   "outputs": [],
   "source": [
    "c = list(nx.k_clique_communities(G_fb, 4))"
   ]
  }
 ],
 "metadata": {
  "kernelspec": {
   "display_name": "Python 2",
   "language": "python",
   "name": "python2"
  },
  "language_info": {
   "codemirror_mode": {
    "name": "ipython",
    "version": 2
   },
   "file_extension": ".py",
   "mimetype": "text/x-python",
   "name": "python",
   "nbconvert_exporter": "python",
   "pygments_lexer": "ipython2",
   "version": "2.7.11"
  }
 },
 "nbformat": 4,
 "nbformat_minor": 0
}
