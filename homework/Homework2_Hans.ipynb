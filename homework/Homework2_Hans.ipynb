{
 "cells": [
  {
   "cell_type": "markdown",
   "metadata": {},
   "source": [
    "# SYD DAT 3 Lab 2 - Visualisation and Regression\n",
    "\n",
    "##Homework - Due 8th January 2016\n",
    "\n",
    "#### Setup\n",
    "* Signup for an AWS account and redeem the credits from GA\n",
    "\n",
    "#### Communication\n",
    "* Imagine you are trying to explain to someone what Linear Regression is - but they have no programming/maths experience? How would you explain the overall process, what a p-value means and what R-Squared means?\n",
    "* Write a review of one Small Multiple project of your choice. Include a link, what you thought the purpose of the visualisation was and what you discovered as a result. Is there anything you would add to it or like to see?\n",
    "\n",
    "#### Machine Learning\n",
    "* Read chapters 3 and 6 of Introduction to Statistical Learning\n",
    "* Describe 3 ways we can select what features to use in a model\n",
    "* Complete the first 3 exercises from chapter 3 in Python\n",
    "\n",
    "#### Course Project\n",
    "* Draft/Sketch on paper (or wireframe) some data visualisations that would be useful for you to explore your data set\n",
    "* Is there any regresion techniques you could use in your project? Write them down and what you think you would get out of it.\n",
    "\n",
    "**Instructions: copy this file and append your name in the filename, e.g. Homework2_ian_hansel.ipynb.\n",
    "Then commit this in your local repository, push it to your github account and create a pull request so I can see your work. Remeber if you get stuck to look at the slides going over Fork, Clone, Commit, Push and Pull request.**"
   ]
  },
  {
   "cell_type": "markdown",
   "metadata": {
    "collapsed": true
   },
   "source": [
    "## Exercise One: Communication"
   ]
  },
  {
   "cell_type": "markdown",
   "metadata": {},
   "source": [
    "### Linear Regression\n",
    "* Linear regression is the process of fitting a straight line to a set of data points to capture the trend. \n",
    "* The fitting is done in such as way that the total overall error or the distance between the line and the data points is minimised.\n",
    "* P-value in linear regression analysis refers to how certain the effect of a particular feature or variable is. The smaller the p-value, the more confident that we are there is an effect between a certain predictor and the response (not due to chance).\n",
    "* R-squared in linear regression measures what proportion of the variation in the response variable is explain by your model."
   ]
  },
  {
   "cell_type": "markdown",
   "metadata": {},
   "source": [
    "### Small Multiple Project Review\n"
   ]
  },
  {
   "cell_type": "markdown",
   "metadata": {},
   "source": [
    "#### Capital Capers\n",
    "* This project looks at the past, present and future population changes for Australian capital cities.\n",
    "* The purpose is to dynamically show the rate of change (growth) through time of the entire Australian population as well as the distribution amongst capital cities as well as percentage of urban population.\n",
    "* I find this project uses animation and colour very well to depict the years through time. \n",
    "* Link: http://small.mu/work/ge-powering-people/"
   ]
  },
  {
   "cell_type": "markdown",
   "metadata": {},
   "source": [
    "## Exercise Two: Machine Learning"
   ]
  },
  {
   "cell_type": "markdown",
   "metadata": {},
   "source": [
    "### Feature Selection\n",
    "#### Forward Selection\n",
    "We start with a null model (no features just an intercept x0 term) and add to it one feature at a time. To determine the feature to add we will iterate through all features that's left and find the one that will result in the lowest RSS in the model.\n",
    "\n",
    "#### Backward Selection\n",
    "We start with a model with all features added and take away one feature at a time. To determine the feature to subtract we will look at all features that's in the model and find the one with the largest p-value (or the least statistically significant).\n",
    "\n",
    "#### Mixed Selection\n",
    "We start with a null model and add to it one feature at a time just like forward selection. However, we have a p-value threshold in mind and will subtract features that have p-value greater than this threshold as they are added to the model."
   ]
  },
  {
   "cell_type": "markdown",
   "metadata": {},
   "source": [
    "### Chapter Exercise"
   ]
  },
  {
   "cell_type": "markdown",
   "metadata": {},
   "source": [
    "#### Questions 1\n",
    "* The null hypothesis is that none of the predictors have any effect on the response.\n",
    "* Based on these p-values, in the presence of all three predictors, there's no evidence that newspaper is associated with sales. Whereas TV and radio have statistically significant effect where every 1000 dollars increase in TV and radio adversting would increase sales by 46 and 189 units respectively."
   ]
  },
  {
   "cell_type": "markdown",
   "metadata": {},
   "source": [
    "#### Question 2\n",
    "* KNN classifier draws a boundary between the different classes such that the boundary traces the locus of mid points between the classes when k=1. When k>1, k number of nearest known points are examined and the majority class predicts the class of the new unknown point.\n",
    "* KNN regressor performs a stepwise function that goes through the data points and only perform the step change at the mid point between two closest points in all dimensions (depending on the number of predictors) when k=1. When k>1, the average values of k number of nearest known points predicts the value of the new unknown point."
   ]
  },
  {
   "cell_type": "markdown",
   "metadata": {},
   "source": [
    "#### Question 3\n",
    "<ol type=\"A\">\n",
    "<li> For a fixed value of IQ and GPA, males earn more on average than females provided that the GPA is high enough. This is because the interaction term between GPA and Gender is significantly negative. Even though the Gender variable being female is positively associated with the salary response, it is offset by this interaction term when GPA is high. </li>\n",
    "<li> Salary = 50 + 20 x 4 + 0.07 x 110 + 35 x 1 + 0.01 x (4 x 110) - 10 x (4 x 1) = 137.1 </li>\n",
    "<li> False. The magnitude of effect of a particular coefficient term on the response depends on the scale of the predictors it relates to. We need to multiply the coefficient by the magnitude of the predictor to calculate the effect on the response variable. In this case it's relatively small as the predictor IQ x GPA will be on the scale of few hundreds, which when multiplied by its coefficient 0.01 is in single digits. </li>\n",
    "</ol>"
   ]
  }
 ],
 "metadata": {
  "kernelspec": {
   "display_name": "Python 2",
   "language": "python",
   "name": "python2"
  },
  "language_info": {
   "codemirror_mode": {
    "name": "ipython",
    "version": 2
   },
   "file_extension": ".py",
   "mimetype": "text/x-python",
   "name": "python",
   "nbconvert_exporter": "python",
   "pygments_lexer": "ipython2",
   "version": "2.7.11"
  }
 },
 "nbformat": 4,
 "nbformat_minor": 0
}
