{
 "cells": [
  {
   "cell_type": "markdown",
   "metadata": {},
   "source": [
    "## Lookup and Describe Why You Would Use\n",
    "* EC2\n",
    "* RDS\n",
    "* MongoDB\n",
    "* Redshift\n",
    "* Spark"
   ]
  },
  {
   "cell_type": "markdown",
   "metadata": {},
   "source": [
    "### EC2\n",
    "* Amazon Elastic Computer Cloud\n",
    "* Central part of AWS allowing users to rent virtual computers on which to run their own computer applications\n",
    "* Scalable deployment of applications by providing a web service through which a user can boot an Amazon Machine Image to configure a virtual machine, which Amazon calls an \"instance\", containing any software desired.\n",
    "* A user can create, launch, and terminate server-instances as needed, paying by the hour for active servers - hence the term \"elastic\""
   ]
  },
  {
   "cell_type": "markdown",
   "metadata": {},
   "source": [
    "### RDS\n",
    "* Remote Desktop Services by Microsoft\n",
    "* One of the components of Microsoft Windows that allows a user to take control of a remote computer or virtual machine over a network connection\n",
    "* Only software user interfaces are transferred to the client system\n",
    "* All input from the client system is transmitted to the server, where software execution takes place at the server\n",
    "* Amazon Relational Database Service (or Amazon RDS) is a distributed relational database service by AWS\n",
    "* It is a web service running \"in the cloud\" designed to simplify the setup, operation, and scaling of a relational database for use in applications\n",
    "* Scaling storage and compute resources can be performed by a single API call"
   ]
  },
  {
   "cell_type": "markdown",
   "metadata": {},
   "source": [
    "### MongoDB\n",
    "* a cross-platform document-oriented NoSQL database\n",
    "* Fschews the traditional table-based relational database structure in favor of JSON-like documents with dynamic schemas (MongoDB calls the format BSON), making the integration of data in certain types of applications easier and faster\n",
    "* Free and open-source software\n",
    "* As of July 2015, MongoDB is the fourth most popular type of database management system, and the most popular for document stores"
   ]
  },
  {
   "cell_type": "markdown",
   "metadata": {},
   "source": [
    "### Redshift\n",
    "* Amazon Redshift is a hosted data warehouse product, which is part of the larger cloud computing platform Amazon Web Services\n",
    "* It is built on top of technology from the massive parallel processing (MPP) data warehouse ParAccel by Actian\n",
    "* Able to handle analytics workloads on large scale datasets stored by a column-oriented DBMS principle\n",
    "* Based on PostgreSQL "
   ]
  },
  {
   "cell_type": "markdown",
   "metadata": {},
   "source": [
    "### Spark\n",
    "* An open source cluster computing framework \n",
    "* In contrast to Hadoop's two-stage disk-based MapReduce paradigm, Spark's multi-stage in-memory primitives provides performance up to 100 times faster for certain applications\n",
    "* By allowing user programs to load data into a cluster's memory and query it repeatedly, Spark is well-suited to machine learning algorithms\n",
    "* Spark requires a cluster manager and a distributed storage system\n",
    "* One of the most active open source big data projects"
   ]
  }
 ],
 "metadata": {
  "kernelspec": {
   "display_name": "Python 2",
   "language": "python",
   "name": "python2"
  },
  "language_info": {
   "codemirror_mode": {
    "name": "ipython",
    "version": 2
   },
   "file_extension": ".py",
   "mimetype": "text/x-python",
   "name": "python",
   "nbconvert_exporter": "python",
   "pygments_lexer": "ipython2",
   "version": "2.7.11"
  }
 },
 "nbformat": 4,
 "nbformat_minor": 0
}
